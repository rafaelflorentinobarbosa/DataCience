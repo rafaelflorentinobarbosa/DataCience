{
 "cells": [
  {
   "cell_type": "markdown",
   "metadata": {},
   "source": [
    "1) O que é pandas e para que serve?"
   ]
  },
  {
   "cell_type": "markdown",
   "metadata": {},
   "source": [
    "O Pandas é uma biblioteca popular em Python usada para manipulação e análise de dados. Seu nome vem de \"Panel Data\" (dados em painel), é uma ferramenta extremamente prática e acessível para trabalhar com dados tabulares.\n",
    "\n",
    "Principais funcionalidades e propósitos do Pandas:\n",
    "\n",
    "Estruturas de Dados:\n",
    "\n",
    "DataFrame: Uma estrutura de dados bidimensional (tabela) com rótulos nas linhas e colunas, muito semelhante a uma planilha ou a uma tabela SQL.\n",
    "Series: Uma estrutura unidimensional que pode ser vista como uma coluna de um DataFrame.\n",
    "\n",
    "Manipulação de Dados:\n",
    "\n",
    "Leitura e Escrita de Dados: Facilita a leitura e escrita de dados em diferentes formatos, como CSV, Excel, SQL, JSON, etc.\n",
    "Limpeza de Dados: Oferece ferramentas para lidar com dados faltantes, duplicatas, e para transformar e filtrar dados.\n",
    "Análise de Dados:\n",
    "\n",
    "Agregação e Estatísticas: Permite calcular estatísticas descritivas, como médias, medianas, e desvios padrão, e realizar agregações de dados por grupos.\n",
    "Indexação e Seleção: Ferramentas poderosas para selecionar e indexar dados com base em condições complexas.\n",
    "Transformação de Dados:\n",
    "\n",
    "Transformações e Mapeamentos: Oferece funcionalidades para aplicar funções a dados, transformar dados e realizar operações vetorizadas.\n",
    "Merge e Join: Permite combinar diferentes conjuntos de dados com base em chaves comuns.\n",
    "Visualização de Dados:\n",
    "\n",
    "Integração com Bibliotecas de Visualização: Trabalha bem com bibliotecas como Matplotlib e Seaborn para criar gráficos e visualizar dados.\n",
    "O Pandas é amplamente utilizado em ciência de dados, análise estatística, e engenharia de dados, tornando-o uma ferramenta essencial para qualquer trabalho que envolva dados em Python."
   ]
  },
  {
   "cell_type": "markdown",
   "metadata": {},
   "source": [
    "2) O que é Numpy e para que serve?"
   ]
  },
  {
   "cell_type": "markdown",
   "metadata": {},
   "source": [
    "O NumPy (Numerical Python) é uma biblioteca fundamental para computação científica e análise de dados em Python. Ele fornece suporte para arrays multidimensionais e funções matemáticas que operam sobre esses arrays de maneira eficiente. Aqui estão algumas das principais características e propósitos do NumPy: Arrays N-Dimensionais, Operações Matemáticas,Álgebra Linear, Gerenciamento de Dados, Integração com Outras Bibliotecas, Desempenho.\n",
    "O NumPy é essencial para qualquer tarefa que envolva manipulação de dados numéricos e é a base para muitas outras bibliotecas científicas em Python. Se você está trabalhando com dados que requerem cálculos matemáticos avançados, o NumPy é uma ferramenta indispensável."
   ]
  },
  {
   "cell_type": "markdown",
   "metadata": {},
   "source": [
    "3) O que é Scikit-learn e para que serve?"
   ]
  },
  {
   "cell_type": "markdown",
   "metadata": {},
   "source": [
    "O Scikit-learn (ou sklearn) é uma biblioteca de aprendizado de máquina para Python que oferece uma ampla gama de ferramentas e algoritmos para tarefas de análise e modelagem de dados. É muito popular devido à sua simplicidade, eficiência e integração com outras bibliotecas científicas em Python, como NumPy e pandas. Aqui estão algumas das principais funcionalidades e propósitos do Scikit-learn:\n",
    "\n",
    "Algoritmos de Aprendizado de Máquina:\n",
    "\n",
    "Classificação: Algoritmos para categorizar dados em classes distintas, como SVM (Support Vector Machines), Decision Trees, Random Forest, k-Nearest Neighbors (k-NN), entre outros.\n",
    "Regressão: Modelos para prever valores contínuos, como Linear Regression, Ridge Regression, Lasso, e Support Vector Regression.\n",
    "Clustering: Métodos para agrupar dados não rotulados em clusters, como K-Means, DBSCAN, e Hierarchical Clustering.\n",
    "Processamento e Preparação de Dados:\n",
    "\n",
    "Pré-processamento: Ferramentas para escalar, normalizar, codificar variáveis categóricas, e lidar com valores faltantes.\n",
    "Divisão de Dados: Funções para dividir datasets em conjuntos de treinamento e teste de maneira automatizada.\n",
    "Avaliação de Modelos:\n",
    "\n",
    "Métricas de Performance: Fornece métricas para avaliar a qualidade dos modelos, como acurácia, precisão, recall, F1-score, e erro quadrático médio.\n",
    "Validação Cruzada: Métodos para validar modelos de maneira robusta e evitar overfitting, como validação cruzada k-fold.\n",
    "Seleção de Características:\n",
    "\n",
    "Feature Selection: Ferramentas para selecionar as características mais relevantes para o modelo, ajudando a melhorar a performance e reduzir a complexidade.\n",
    "Tuning e Otimização:\n",
    "\n",
    "Busca de Hiperparâmetros: Métodos como Grid Search e Random Search para encontrar os melhores hiperparâmetros para um modelo.\n",
    "Pipeline e Workflow:\n",
    "\n",
    "Pipelines: Facilita a construção de pipelines que combinam várias etapas de pré-processamento e modelagem, tornando o workflow mais organizado e reutilizável.\n",
    "Integração com Outras Ferramentas:\n",
    "\n",
    "Integração com NumPy e pandas: Trabalha bem com arrays do NumPy e DataFrames do pandas, facilitando a manipulação e análise de dados.\n",
    "O Scikit-learn é amplamente utilizado em aplicações de ciência de dados e aprendizado de máquina, desde projetos acadêmicos e protótipos até implementações em produção. Sua documentação é bem estruturada, e a biblioteca é conhecida pela facilidade de uso, o que a torna uma excelente escolha tanto para iniciantes quanto para profissionais experientes."
   ]
  },
  {
   "cell_type": "markdown",
   "metadata": {},
   "source": [
    "4) Como carregar dados no pandas?"
   ]
  },
  {
   "cell_type": "code",
   "execution_count": null,
   "metadata": {},
   "outputs": [],
   "source": [
    "import pandas as pd\n",
    "\n",
    "url = \"dataset/mental-illnesses-prevalence.csv\"\n",
    "\n",
    "pd.read_csv(url)"
   ]
  },
  {
   "cell_type": "markdown",
   "metadata": {},
   "source": [
    "5) como criar um Dataframe?"
   ]
  },
  {
   "cell_type": "code",
   "execution_count": null,
   "metadata": {},
   "outputs": [],
   "source": [
    "import pandas as pd\n",
    "\n",
    "# Criar um DataFrame a partir de um dicionário\n",
    "dados = {\n",
    "    'Nome': ['Ana', 'João', 'Pedro'],\n",
    "    'Idade': [23, 30, 22],\n",
    "    'Cidade': ['São Paulo', 'Rio de Janeiro', 'Belo Horizonte']\n",
    "}\n",
    "\n",
    "df = pd.DataFrame(dados)\n",
    "print(df)"
   ]
  },
  {
   "cell_type": "markdown",
   "metadata": {},
   "source": [
    "6) O que são series na programação?"
   ]
  },
  {
   "cell_type": "markdown",
   "metadata": {},
   "source": [
    "Na programação, especialmente no contexto da biblioteca Pandas em Python, uma Series é uma estrutura de dados unidimensional que pode armazenar dados de qualquer tipo, como inteiros, strings, números de ponto flutuante, objetos Python, etc. É um dos principais componentes da biblioteca Pandas, e é muito útil para manipulação e análise de dados.\n",
    "\n",
    "Aqui estão algumas das principais características e usos de uma Series:\n",
    "\n",
    "Estrutura Básica\n",
    "Unidimensional: Uma Series é uma estrutura unidimensional semelhante a um vetor ou uma coluna em uma tabela.\n",
    "Dados e Índices: Cada valor em uma Series tem um rótulo associado chamado índice. O índice pode ser qualquer tipo de rótulo (inteiro, string, etc.) e é usado para acessar elementos.\n",
    "\n",
    "As Series são frequentemente usadas para representar colunas em um DataFrame (ou seja, uma tabela de dados em Pandas) e para realizar operações individuais sobre esses dados. Elas são muito úteis para análise exploratória de dados e pré-processamento.\n",
    "\n",
    "Em resumo, uma Series é uma estrutura de dados fundamental no Pandas que facilita a manipulação e análise de dados unidimensionais de forma eficiente e flexível."
   ]
  },
  {
   "cell_type": "markdown",
   "metadata": {},
   "source": [
    "7) como mostrar um cabeçaho e um rodadpe?"
   ]
  },
  {
   "cell_type": "code",
   "execution_count": null,
   "metadata": {},
   "outputs": [],
   "source": [
    "# Cabecalho\n",
    "dados.head()\n",
    "\n",
    "# rodape\n",
    "dados.tail()"
   ]
  },
  {
   "cell_type": "markdown",
   "metadata": {},
   "source": [
    "8) Como ver a quantidade de entrada no dataframe"
   ]
  },
  {
   "cell_type": "code",
   "execution_count": null,
   "metadata": {},
   "outputs": [],
   "source": [
    "dados.shape[0]"
   ]
  },
  {
   "cell_type": "markdown",
   "metadata": {},
   "source": [
    "9) Como retornar a quantidade de linhas colunas no dataframe?"
   ]
  },
  {
   "cell_type": "code",
   "execution_count": null,
   "metadata": {},
   "outputs": [],
   "source": [
    "dados.shape"
   ]
  },
  {
   "cell_type": "markdown",
   "metadata": {},
   "source": [
    "10) quais são as informaçoes do dataframe?"
   ]
  },
  {
   "cell_type": "markdown",
   "metadata": {},
   "source": [
    "11) Como criar uma tabela no powerpoint com excel texto?"
   ]
  },
  {
   "cell_type": "markdown",
   "metadata": {},
   "source": [
    "12) como criar uma tabela powerpoint com mysql varcharl?"
   ]
  },
  {
   "cell_type": "markdown",
   "metadata": {},
   "source": [
    "13) como criar uma tabela powerpoint com mysql objeto?"
   ]
  },
  {
   "cell_type": "markdown",
   "metadata": {},
   "source": [
    "14) como criar uma tabela powerpoint com mysql str?"
   ]
  },
  {
   "cell_type": "markdown",
   "metadata": {},
   "source": [
    "15) Como examinar os tipos no pandas?"
   ]
  },
  {
   "cell_type": "markdown",
   "metadata": {},
   "source": [
    "16) O que é describe na programação"
   ]
  },
  {
   "cell_type": "markdown",
   "metadata": {},
   "source": [
    "17) como acessar apenas uma coluna?"
   ]
  },
  {
   "cell_type": "markdown",
   "metadata": {},
   "source": [
    "18) Como fatiar um dataframe?"
   ]
  },
  {
   "cell_type": "markdown",
   "metadata": {},
   "source": [
    "19) oque e IA?"
   ]
  },
  {
   "cell_type": "markdown",
   "metadata": {},
   "source": [
    "20) oque é marchine learning?"
   ]
  },
  {
   "cell_type": "markdown",
   "metadata": {},
   "source": [
    "21) oque é deeplearning?"
   ]
  },
  {
   "cell_type": "markdown",
   "metadata": {},
   "source": [
    "22) quais problemas a IA pode resolver?"
   ]
  },
  {
   "cell_type": "markdown",
   "metadata": {},
   "source": [
    "23) comente sobre funções LOC e ILO"
   ]
  },
  {
   "cell_type": "markdown",
   "metadata": {},
   "source": [
    "24) Como limpar dados nana(ausentes)"
   ]
  },
  {
   "cell_type": "markdown",
   "metadata": {},
   "source": [
    "Enviar nesse email:\n",
    "\n",
    "mirka.santos@sistemafibra.org.br"
   ]
  }
 ],
 "metadata": {
  "language_info": {
   "name": "python"
  }
 },
 "nbformat": 4,
 "nbformat_minor": 2
}
