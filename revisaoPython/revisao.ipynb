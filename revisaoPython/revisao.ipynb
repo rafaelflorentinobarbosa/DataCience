{
 "cells": [
  {
   "cell_type": "markdown",
   "metadata": {},
   "source": [
    "# Lista"
   ]
  },
  {
   "cell_type": "code",
   "execution_count": 2,
   "metadata": {},
   "outputs": [
    {
     "data": {
      "text/plain": [
       "list"
      ]
     },
     "execution_count": 2,
     "metadata": {},
     "output_type": "execute_result"
    }
   ],
   "source": [
    "\"\"\"\n",
    "residencial, comercial, fazenda\n",
    "\n",
    "\"\"\"\n",
    "\n",
    "# Colchetes para Lista\n",
    "\n",
    "tipos_imoveis = ['residencial', 'comercial', 'fazenda'] \n",
    "\n",
    "type(tipos_imoveis)"
   ]
  },
  {
   "cell_type": "markdown",
   "metadata": {},
   "source": [
    "- A Lista muda a tupla não\n",
    "\n",
    "# Tupla"
   ]
  },
  {
   "cell_type": "code",
   "execution_count": 1,
   "metadata": {},
   "outputs": [
    {
     "data": {
      "text/plain": [
       "tuple"
      ]
     },
     "execution_count": 1,
     "metadata": {},
     "output_type": "execute_result"
    }
   ],
   "source": [
    "# Parenteses para Tupla\n",
    "\n",
    "tipos_imoveis = ('residencial', 'comercial', 'fazenda') \n",
    "\n",
    "type(tipos_imoveis)"
   ]
  },
  {
   "cell_type": "markdown",
   "metadata": {},
   "source": [
    "# Conjuntos\n",
    "{ itens }"
   ]
  },
  {
   "cell_type": "code",
   "execution_count": 4,
   "metadata": {},
   "outputs": [
    {
     "data": {
      "text/plain": [
       "set"
      ]
     },
     "execution_count": 4,
     "metadata": {},
     "output_type": "execute_result"
    }
   ],
   "source": [
    "tipos_imoveis = {'residencial', 'comercial', 'fazenda'} \n",
    "tipos_imoveis\n",
    "type(tipos_imoveis)"
   ]
  },
  {
   "cell_type": "markdown",
   "metadata": {},
   "source": [
    "list (lista) - [] mutável\n",
    "tuple (tupla) - () imutável\n",
    "set (conjuntos) - { } não repetir"
   ]
  },
  {
   "cell_type": "markdown",
   "metadata": {},
   "source": [
    "# Exercício\n",
    "\n",
    "- Crie uma lista de vitória do seu time.\n",
    "\n",
    "- Crie ua tupla de fastfood.\n",
    "\n",
    "- Crie um conjunto de itens de compra do supermercado."
   ]
  },
  {
   "cell_type": "code",
   "execution_count": 5,
   "metadata": {},
   "outputs": [
    {
     "name": "stdout",
     "output_type": "stream",
     "text": [
      "[1958, 1962, 1970, 1994, 2002]\n"
     ]
    }
   ],
   "source": [
    "vitorias_copas = [1958, 1962, 1970, 1994, 2002]\n",
    "print(vitorias_copas)\n",
    "type(vitorias_copas)\n"
   ]
  },
  {
   "cell_type": "code",
   "execution_count": 6,
   "metadata": {},
   "outputs": [
    {
     "name": "stdout",
     "output_type": "stream",
     "text": [
      "('Big Mac', 'Mac Lanche feliz', 'Bata Grande', 'Bata Pequena')\n"
     ]
    },
    {
     "data": {
      "text/plain": [
       "tuple"
      ]
     },
     "execution_count": 6,
     "metadata": {},
     "output_type": "execute_result"
    }
   ],
   "source": [
    "comidas = (\"Big Mac\", \"Mac Lanche feliz\",\"Bata Grande\",\"Bata Pequena\")\n",
    "print(comidas)\n",
    "type(comidas)"
   ]
  },
  {
   "cell_type": "code",
   "execution_count": 7,
   "metadata": {},
   "outputs": [
    {
     "name": "stdout",
     "output_type": "stream",
     "text": [
      "{'Feijão', 'Arroz', 'Carne', 'Suco'}\n"
     ]
    },
    {
     "data": {
      "text/plain": [
       "set"
      ]
     },
     "execution_count": 7,
     "metadata": {},
     "output_type": "execute_result"
    }
   ],
   "source": [
    "compras = {\"Arroz\", \"Feijão\",\"Carne\",\"Suco\"}\n",
    "print(compras)\n",
    "type(compras)"
   ]
  },
  {
   "cell_type": "markdown",
   "metadata": {},
   "source": [
    "# Dicionário"
   ]
  },
  {
   "cell_type": "code",
   "execution_count": 9,
   "metadata": {},
   "outputs": [
    {
     "name": "stdout",
     "output_type": "stream",
     "text": [
      "3\n",
      "taguatinga: 3\n",
      "brazlândia: 5\n",
      "ceilandia: 2\n",
      "candangolânida: 4\n"
     ]
    }
   ],
   "source": [
    "apartamentos = {\n",
    "    \"taguatinga\" : 3,\n",
    "    \"brazlândia\" : 5,\n",
    "    \"ceilandia\" : 2\n",
    "}\n",
    "\n",
    "print(apartamentos[\"taguatinga\"])\n",
    "\n",
    "# Adicionar novo apartamento\n",
    "apartamentos[\"candangolânida\"] = 4\n",
    "\n",
    "for apartamento, quantidade in apartamentos.items():\n",
    "    print(f\"{apartamento}: {quantidade}\")\n",
    "\n"
   ]
  },
  {
   "cell_type": "markdown",
   "metadata": {},
   "source": [
    "- Criar um dicináiro quinta_estudo (materia : hora_Estudo)\n",
    "- Criar um dicionário sexta_estado"
   ]
  },
  {
   "cell_type": "code",
   "execution_count": 10,
   "metadata": {},
   "outputs": [
    {
     "name": "stdout",
     "output_type": "stream",
     "text": [
      "Paradigma: 15\n",
      "Objeto: 10\n",
      "Classe: 15\n",
      "Método: 15\n",
      "Herança: 10\n",
      "Polimorfismo: 15\n",
      "Encapsulamento: 22\n"
     ]
    }
   ],
   "source": [
    "aula_quinta = {\n",
    "    \"Paradigma\" : 15,\n",
    "    \"Objeto\" : 10,\n",
    "    \"Classe\" : 15,\n",
    "    \"Método\" : 15,\n",
    "    \"Herança\" : 10,\n",
    "    \"Polimorfismo\" : 15,    \n",
    "    \"Encapsulamento\" : 22\n",
    "}\n",
    "\n",
    "for materia, minutos in aula_quinta.items():\n",
    "    print(f\"{materia}: {minutos}\")"
   ]
  },
  {
   "cell_type": "code",
   "execution_count": 11,
   "metadata": {},
   "outputs": [
    {
     "name": "stdout",
     "output_type": "stream",
     "text": [
      "Média: 5\n",
      "Mediana: 10\n",
      "Moda: 2\n",
      "Quartis: 10\n",
      "Desvio Padrão: 15\n"
     ]
    }
   ],
   "source": [
    "aula_sexta = {\n",
    "    \"Média\" : 5,\n",
    "    \"Mediana\" : 10,\n",
    "    \"Moda\" : 2,\n",
    "    \"Quartis\" : 10,\n",
    "    \"Desvio Padrão\" : 15\n",
    "}\n",
    "\n",
    "for materia, minutos in aula_sexta.items():\n",
    "    print(f\"{materia}: {minutos}\")\n"
   ]
  }
 ],
 "metadata": {
  "kernelspec": {
   "display_name": ".venv",
   "language": "python",
   "name": "python3"
  },
  "language_info": {
   "codemirror_mode": {
    "name": "ipython",
    "version": 3
   },
   "file_extension": ".py",
   "mimetype": "text/x-python",
   "name": "python",
   "nbconvert_exporter": "python",
   "pygments_lexer": "ipython3",
   "version": "3.12.4"
  }
 },
 "nbformat": 4,
 "nbformat_minor": 2
}
