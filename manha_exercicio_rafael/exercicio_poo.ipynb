{
 "cells": [
  {
   "cell_type": "code",
   "execution_count": 1,
   "metadata": {},
   "outputs": [
    {
     "name": "stdout",
     "output_type": "stream",
     "text": [
      "Alo mundo\n"
     ]
    }
   ],
   "source": [
    "print(\"Alo mundo\")"
   ]
  },
  {
   "cell_type": "markdown",
   "metadata": {},
   "source": [
    "Lista de regras\n",
    "\n",
    "- A Classe é um conjunto de objetos;\n",
    "- A Classe agrupa objetos em comum;\n",
    "- A Classe possui um contrutor: __init__ \n",
    "- As Características dos objetos são atributos.\n",
    "- O self acessa as caracteristicas e comportamentos da classe.\n",
    "- Os métodos de trabalho (workers -Oziel Moreira Neto): são métodos para calcular, desenvolver a lógica de programação."
   ]
  },
  {
   "cell_type": "markdown",
   "metadata": {},
   "source": [
    "Exercicio:\n",
    "\n",
    "- Criar uma classe Produto.\n",
    "- Com uma função para calcular o valor total do produto"
   ]
  },
  {
   "cell_type": "code",
   "execution_count": 3,
   "metadata": {},
   "outputs": [],
   "source": [
    "class Produto: \n",
    "    def __init__(self, qtde, preco):\n",
    "        self.qtde = qtde\n",
    "        self.preco = preco\n",
    "\n",
    "    def calcular_total(self):\n",
    "        return self.qtde * self.preco"
   ]
  },
  {
   "cell_type": "code",
   "execution_count": 5,
   "metadata": {},
   "outputs": [
    {
     "name": "stdout",
     "output_type": "stream",
     "text": [
      "O valor total de melancias é: 100\n"
     ]
    }
   ],
   "source": [
    "# Passagem de parâmetro por valor\n",
    "\n",
    "p = Produto(qtde=10, preco=10)\n",
    "\n",
    "print(f\"O valor total de melancias é: {p.calcular_total()}\")"
   ]
  },
  {
   "cell_type": "markdown",
   "metadata": {},
   "source": [
    "Desafio:\n",
    "- Analise o dataset aluguel.csv da aula passada.\n",
    "- E crie uma classe que representará o arquivo.\n",
    "- Crie três imóveis(objetos) que estão no dataset."
   ]
  },
  {
   "cell_type": "code",
   "execution_count": 10,
   "metadata": {},
   "outputs": [
    {
     "name": "stdout",
     "output_type": "stream",
     "text": [
      "casa Taguatinga Norte 3\n"
     ]
    }
   ],
   "source": [
    "# Tipo;Bairro;Quartos;Vagas;Suites;Area;Valor;Condominio;IPTU\n",
    "\n",
    "class Imovel: \n",
    "    def __init__(self, tipo, bairro, quartos, vagas, suites, area, valor, condominio, iptu):\n",
    "        self.tipo = tipo\n",
    "        self.bairro = bairro\n",
    "        self.quartos = quartos\n",
    "        self.vagas = vagas\n",
    "        self.suites = suites\n",
    "        self.area = area\n",
    "        self.valor = valor\n",
    "        self.condominio = condominio\n",
    "        self.iptu = iptu\n",
    "        \n",
    "imovel1 = Imovel(\"casa\",\"Taguatinga Norte\",3,2,2,1,500.000,1.200, 1600)\n",
    "imovel2 = Imovel(\"apartamento\",\"Taguatinga sul\",3,2,2,1,600.000,1.500, 1800)\n",
    "imovel3 = Imovel(\"kitnet\",\"Taguatinga centro\",2,1,1,1,300.000,1.300, 1500)\n",
    "\n",
    "print(imovel1.tipo, imovel1.bairro, imovel1.quartos)\n"
   ]
  }
 ],
 "metadata": {
  "kernelspec": {
   "display_name": ".venv",
   "language": "python",
   "name": "python3"
  },
  "language_info": {
   "codemirror_mode": {
    "name": "ipython",
    "version": 3
   },
   "file_extension": ".py",
   "mimetype": "text/x-python",
   "name": "python",
   "nbconvert_exporter": "python",
   "pygments_lexer": "ipython3",
   "version": "3.12.4"
  }
 },
 "nbformat": 4,
 "nbformat_minor": 2
}
